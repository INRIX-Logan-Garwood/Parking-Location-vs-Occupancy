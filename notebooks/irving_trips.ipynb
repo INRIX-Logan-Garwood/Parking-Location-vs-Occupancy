{
 "cells": [
  {
   "cell_type": "code",
   "execution_count": 24,
   "metadata": {},
   "outputs": [],
   "source": [
    "import matplotlib.pyplot as plt\n",
    "import numpy as np\n",
    "import pandas as pd\n",
    "import geopandas as gpd\n",
    "import folium\n",
    "import os\n",
    "from pathlib import Path\n",
    "from shapely import wkt\n",
    "\n",
    "# set cwd to src\n",
    "os.chdir('../src')\n",
    "from utils import *\n",
    "\n",
    "data_path = Path('../data')"
   ]
  },
  {
   "cell_type": "code",
   "execution_count": 25,
   "metadata": {},
   "outputs": [],
   "source": [
    "trips_df = pd.read_csv(data_path / 'dest_trips_IrvineSpectrumCenter_2023-01-01_to_2023-01-31.csv')\n",
    "parking_df = pd.read_csv(data_path / 'IrvineSpectrumCenter_parking.csv')\n",
    "geometry = parking_df['geometry'].apply(wkt.loads)\n",
    "parking_gpd = gpd.GeoDataFrame(parking_df, geometry=geometry, crs='EPSG:4326')\n"
   ]
  },
  {
   "cell_type": "code",
   "execution_count": 26,
   "metadata": {},
   "outputs": [
    {
     "data": {
      "text/html": [
       "<div>\n",
       "<style scoped>\n",
       "    .dataframe tbody tr th:only-of-type {\n",
       "        vertical-align: middle;\n",
       "    }\n",
       "\n",
       "    .dataframe tbody tr th {\n",
       "        vertical-align: top;\n",
       "    }\n",
       "\n",
       "    .dataframe thead th {\n",
       "        text-align: right;\n",
       "    }\n",
       "</style>\n",
       "<table border=\"1\" class=\"dataframe\">\n",
       "  <thead>\n",
       "    <tr style=\"text-align: right;\">\n",
       "      <th></th>\n",
       "      <th>pk_lot</th>\n",
       "      <th>time_bucket</th>\n",
       "      <th>f_pct_occ</th>\n",
       "      <th>i_avail</th>\n",
       "      <th>i_occ</th>\n",
       "      <th>location</th>\n",
       "      <th>geometry</th>\n",
       "    </tr>\n",
       "  </thead>\n",
       "  <tbody>\n",
       "    <tr>\n",
       "      <th>0</th>\n",
       "      <td>90391</td>\n",
       "      <td>2023-01-01 08:21:00+00:00</td>\n",
       "      <td>31.333333</td>\n",
       "      <td>356.666667</td>\n",
       "      <td>160.000000</td>\n",
       "      <td>POINT(-117.859470364962 33.6809876250827)</td>\n",
       "      <td>MULTIPOLYGON (((-117.86 33.682, -117.86 33.682...</td>\n",
       "    </tr>\n",
       "    <tr>\n",
       "      <th>1</th>\n",
       "      <td>90391</td>\n",
       "      <td>2023-01-01 08:46:00+00:00</td>\n",
       "      <td>31.333333</td>\n",
       "      <td>357.333333</td>\n",
       "      <td>159.333333</td>\n",
       "      <td>POINT(-117.859470364962 33.6809876250827)</td>\n",
       "      <td>MULTIPOLYGON (((-117.86 33.682, -117.86 33.682...</td>\n",
       "    </tr>\n",
       "  </tbody>\n",
       "</table>\n",
       "</div>"
      ],
      "text/plain": [
       "   pk_lot                time_bucket  f_pct_occ     i_avail       i_occ  \\\n",
       "0   90391  2023-01-01 08:21:00+00:00  31.333333  356.666667  160.000000   \n",
       "1   90391  2023-01-01 08:46:00+00:00  31.333333  357.333333  159.333333   \n",
       "\n",
       "                                    location  \\\n",
       "0  POINT(-117.859470364962 33.6809876250827)   \n",
       "1  POINT(-117.859470364962 33.6809876250827)   \n",
       "\n",
       "                                            geometry  \n",
       "0  MULTIPOLYGON (((-117.86 33.682, -117.86 33.682...  \n",
       "1  MULTIPOLYGON (((-117.86 33.682, -117.86 33.682...  "
      ]
     },
     "metadata": {},
     "output_type": "display_data"
    }
   ],
   "source": [
    "display(parking_gpd.head(2))"
   ]
  },
  {
   "cell_type": "code",
   "execution_count": 27,
   "metadata": {},
   "outputs": [
    {
     "data": {
      "text/plain": [
       "<Axes: >"
      ]
     },
     "execution_count": 27,
     "metadata": {},
     "output_type": "execute_result"
    },
    {
     "data": {
      "image/png": "[encoded data removed]",
      "text/plain": [
       "<Figure size 640x480 with 1 Axes>"
      ]
     },
     "metadata": {},
     "output_type": "display_data"
    }
   ],
   "source": [
    "agg_dict = {'location': 'first', 'geometry': 'first', 'f_pct_occ': 'mean',\n",
    "            'i_avail': 'mean', 'i_occ': 'mean'}\n",
    "parking_lots_gpd = parking_gpd.groupby('pk_lot').agg(agg_dict).reset_index()\n",
    "geometry = parking_lots_gpd['geometry']\n",
    "parking_lots_gpd = gpd.GeoDataFrame(parking_lots_gpd, geometry=geometry, crs='EPSG:4326')\n",
    "\n",
    "# filter out the airport lots to get just the irvine spectrum center\n",
    "east = lambda poly: poly.centroid.x > -117.84\n",
    "parking_lots_gpd['is_irvinge_spectrum'] = parking_lots_gpd['geometry'].apply(east)\n",
    "parking_lots_gpd = parking_lots_gpd[parking_lots_gpd['is_irvinge_spectrum']]\n",
    "parking_lots_gpd.plot()"
   ]
  },
  {
   "cell_type": "code",
   "execution_count": null,
   "metadata": {},
   "outputs": [],
   "source": [
    "qk_list = ['023112130', '023112131', '023112132']\n",
    "m = folium.Map(location=[47.6062, -122.3321], zoom_start=12)\n",
    "m = add_qks_to_map(m, qk_list)\n",
    "trips = pd.DataFrame({\n",
    "    'start_lat': [47.6062, 47.6062],\n",
    "    'start_lon': [-122.3321, -122.3321],\n",
    "    'end_lat': [47.6062, 47.6062],\n",
    "    'end_lon': [-122.3321, -122.3321]\n",
    "})\n",
    "m = add_trips_to_map(m, trips)"
   ]
  }
 ],
 "metadata": {
  "kernelspec": {
   "display_name": "inrixDS",
   "language": "python",
   "name": "python3"
  },
  "language_info": {
   "codemirror_mode": {
    "name": "ipython",
    "version": 3
   },
   "file_extension": ".py",
   "mimetype": "text/x-python",
   "name": "python",
   "nbconvert_exporter": "python",
   "pygments_lexer": "ipython3",
   "version": "3.11.9"
  }
 },
 "nbformat": 4,
 "nbformat_minor": 2
}
