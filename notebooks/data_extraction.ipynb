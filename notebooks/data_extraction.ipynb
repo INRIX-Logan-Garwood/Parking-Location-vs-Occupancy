{
 "cells": [
  {
   "cell_type": "markdown",
   "metadata": {},
   "source": [
    "This Jupyter Notebook is used for extracting data from multiple sources. The sources include trip data, occupancy data, and parking lot data. "
   ]
  },
  {
   "cell_type": "code",
   "execution_count": 1,
   "metadata": {},
   "outputs": [],
   "source": [
    "import pandas as pd\n",
    "import geopandas as gpd\n",
    "import matplotlib.pyplot as plt\n",
    "from shapely import wkt\n",
    "import numpy as np\n",
    "import os\n",
    "import folium\n",
    "from pathlib import Path\n",
    "import boto3\n",
    "\n",
    "# import from src\n",
    "os.chdir('../src')\n",
    "from trips_data_retrieval import get_agg_trips_by_market, get_agg_trips\n",
    "import inrix_data_science_utils.maps.quadkey as qkey\n",
    "from utils import *\n",
    "\n",
    "# set paths\n",
    "data_path = Path('../data')"
   ]
  },
  {
   "cell_type": "markdown",
   "metadata": {},
   "source": [
    "### Extract the 6 Flags Polygon Shapes\n",
    "#### This might be unnecessary"
   ]
  },
  {
   "cell_type": "code",
   "execution_count": null,
   "metadata": {},
   "outputs": [],
   "source": [
    "from polygon_retrieval import get_polygons\n",
    "\n",
    "# Six Flags\n",
    "brand_id = 'SG_BRAND_0dd52fbf1cd77fc38e06650435ada07d'\n",
    "poly_file_name = data_path / 'six_flags_polygons.csv'"
   ]
  },
  {
   "cell_type": "code",
   "execution_count": null,
   "metadata": {},
   "outputs": [],
   "source": [
    "\n",
    "if not os.path.exists(poly_file_name):\n",
    "    polygon_df = get_polygons(brand_id, format='df', echo_query=True)\n",
    "    relevant_cols = ['location_name', 'top_category', 'sub_category', 'latitude', 'longitude', 'street_address', 'city', 'region', 'postal_code', 'open_hours',\n",
    "                 'category_tags', 'polygon_wkt', 'polygon_class', 'enclosed', 'is_synthetic', 'includes_parking_lot', 'wkt_area_sq_meters', 'tz', 'year',\n",
    "                 'month', 'pg_id', 'parking_wkt']\n",
    "    polygon_df = polygon_df[relevant_cols]\n",
    "    polygon_df.to_csv(poly_file_name, index=False)\n",
    "else:\n",
    "    polygon_df = pd.read_csv(poly_file_name)"
   ]
  },
  {
   "cell_type": "code",
   "execution_count": null,
   "metadata": {},
   "outputs": [],
   "source": [
    "# make a new df with just the unique latitude and longitude columns\n",
    "store_locations_df = polygon_df[['latitude', 'longitude', 'street_address', 'city', 'region']].drop_duplicates()\n",
    "display(store_locations_df)\n",
    "\n",
    "six_flag_stores = folium.Map(zoom_start=15)\n",
    "for i, row in store_locations_df.iterrows():\n",
    "    folium.CircleMarker(\n",
    "        location=[row['latitude'], row['longitude']],\n",
    "        color='blue',\n",
    "        radius=4\n",
    "    ).add_to(six_flag_stores)\n",
    "six_flag_stores.fit_bounds(six_flag_stores.get_bounds())\n",
    "six_flag_stores"
   ]
  },
  {
   "cell_type": "code",
   "execution_count": null,
   "metadata": {},
   "outputs": [],
   "source": [
    "# city = 'Oklahoma City'\n",
    "# test_site = store_locations_df[store_locations_df['city'] == city].iloc[0]\n",
    "# test_point = test_site['latitude'], test_site['longitude']\n",
    "\n",
    "# # get the quadkey for a specific location\n",
    "# qk = qkey.QuadKey('0')\n",
    "# qk = qk.from_geo(test_point, level=16)\n",
    "# print(qk)\n",
    "# qk.show()"
   ]
  },
  {
   "cell_type": "markdown",
   "metadata": {},
   "source": [
    "#### Map the parking lots at each store"
   ]
  },
  {
   "cell_type": "code",
   "execution_count": null,
   "metadata": {},
   "outputs": [],
   "source": [
    "lot_gpd = polygon_df.copy()\n",
    "geometry = lot_gpd['parking_wkt'].apply(wkt.loads)\n",
    "lot_gpd = gpd.GeoDataFrame(lot_gpd, crs='epsg:4326', geometry=geometry)\n",
    "print(lot_gpd.crs)\n",
    "lot_gpd[lot_gpd['city'] == city].plot(figsize=(6, 6))\n",
    "plt.show()"
   ]
  },
  {
   "cell_type": "code",
   "execution_count": null,
   "metadata": {},
   "outputs": [],
   "source": [
    "lot_map = folium.Map(zoom_start=10)\n",
    "cities = lot_gpd['city'].unique()\n",
    "# add pois to lot map\n",
    "for city in cities:\n",
    "    city_gpd = lot_gpd[lot_gpd['city'] == city].copy()\n",
    "    geom = city_gpd['polygon_wkt'].values[0]\n",
    "    # convert geom to a shapely geometry object\n",
    "    geom = wkt.loads(geom)\n",
    "    sim_geo = gpd.GeoSeries(geom)\n",
    "    geo_j = sim_geo.to_json()\n",
    "    geo_j = folium.GeoJson(data=geo_j, style_function=lambda x: {'fillColor': 'red', 'color': 'red', 'opacity': 0.3})\n",
    "    folium.Popup(city).add_to(geo_j)\n",
    "    geo_j.add_to(lot_map)\n",
    "\n",
    "# add parking lots to lot map\n",
    "for _, r in lot_gpd.iterrows():\n",
    "    geom = r['geometry']  # this needs to be a shapely geometry object\n",
    "    sim_geo = gpd.GeoSeries(geom)\n",
    "    geo_j = sim_geo.to_json()\n",
    "    geo_j = folium.GeoJson(data=geo_j, style_function=lambda x: {'fillColor': 'blue', 'color': 'blue', 'opacity': 0.8})\n",
    "    geo_j.add_to(lot_map)\n",
    "print('loop done')\n",
    "# lot_map\n",
    "\n",
    "# neighbors = qk.nearby()\n",
    "# neighbors.append(str(qk))\n",
    "# lot_map = add_qks_to_map(lot_map, neighbors)\n",
    "qk.show(lot_map)\n",
    "lot_map"
   ]
  },
  {
   "cell_type": "markdown",
   "metadata": {},
   "source": [
    "### Get the Parking Occupancy Ground Truth Data"
   ]
  },
  {
   "cell_type": "code",
   "execution_count": 2,
   "metadata": {},
   "outputs": [],
   "source": [
    "from parking_data_retrieval import get_parking_data"
   ]
  },
  {
   "cell_type": "markdown",
   "metadata": {},
   "source": [
    "Find which cities have the most parking data"
   ]
  },
  {
   "cell_type": "code",
   "execution_count": 3,
   "metadata": {},
   "outputs": [
    {
     "data": {
      "text/html": [
       "<div>\n",
       "<style scoped>\n",
       "    .dataframe tbody tr th:only-of-type {\n",
       "        vertical-align: middle;\n",
       "    }\n",
       "\n",
       "    .dataframe tbody tr th {\n",
       "        vertical-align: top;\n",
       "    }\n",
       "\n",
       "    .dataframe thead th {\n",
       "        text-align: right;\n",
       "    }\n",
       "</style>\n",
       "<table border=\"1\" class=\"dataframe\">\n",
       "  <thead>\n",
       "    <tr style=\"text-align: right;\">\n",
       "      <th></th>\n",
       "      <th>pk_destination</th>\n",
       "      <th>str_name</th>\n",
       "      <th>num_lots</th>\n",
       "    </tr>\n",
       "  </thead>\n",
       "  <tbody>\n",
       "    <tr>\n",
       "      <th>19</th>\n",
       "      <td>8faeea56-7a52-11df-ad8f-6b84bf453d3d</td>\n",
       "      <td>Santa Monica</td>\n",
       "      <td>15</td>\n",
       "    </tr>\n",
       "    <tr>\n",
       "      <th>16</th>\n",
       "      <td>8faca340-7a52-11df-8a97-875256aaa997</td>\n",
       "      <td>Irvine</td>\n",
       "      <td>11</td>\n",
       "    </tr>\n",
       "    <tr>\n",
       "      <th>10</th>\n",
       "      <td>8f98cf00-7a52-11df-bb23-6f961d7daa51</td>\n",
       "      <td>Ann Arbor</td>\n",
       "      <td>9</td>\n",
       "    </tr>\n",
       "    <tr>\n",
       "      <th>6</th>\n",
       "      <td>8f8ae430-7a52-11df-93fb-6b6334ed9a2a</td>\n",
       "      <td>Knoxville</td>\n",
       "      <td>7</td>\n",
       "    </tr>\n",
       "    <tr>\n",
       "      <th>15</th>\n",
       "      <td>8fa9dfde-7a52-11df-af59-273aa13aeea1</td>\n",
       "      <td>Phoenix</td>\n",
       "      <td>6</td>\n",
       "    </tr>\n",
       "    <tr>\n",
       "      <th>14</th>\n",
       "      <td>8fa8608c-7a52-11df-841d-870c5e91ead8</td>\n",
       "      <td>Madison</td>\n",
       "      <td>5</td>\n",
       "    </tr>\n",
       "    <tr>\n",
       "      <th>3</th>\n",
       "      <td>8f854570-7a52-11df-9a45-93d95744a90c</td>\n",
       "      <td>Asheville</td>\n",
       "      <td>5</td>\n",
       "    </tr>\n",
       "    <tr>\n",
       "      <th>18</th>\n",
       "      <td>8fae86e2-7a52-11df-b2bb-d72f2aaf97c2</td>\n",
       "      <td>Sacramento</td>\n",
       "      <td>4</td>\n",
       "    </tr>\n",
       "    <tr>\n",
       "      <th>5</th>\n",
       "      <td>8f8935cc-7a52-11df-85ef-037cba85cd49</td>\n",
       "      <td>Philadelphia</td>\n",
       "      <td>4</td>\n",
       "    </tr>\n",
       "    <tr>\n",
       "      <th>9</th>\n",
       "      <td>8f91a77a-7a52-11df-844f-c76b5ffdf7f2</td>\n",
       "      <td>Iowa City</td>\n",
       "      <td>4</td>\n",
       "    </tr>\n",
       "    <tr>\n",
       "      <th>12</th>\n",
       "      <td>8fa690e0-7a52-11df-8080-875284b07caa</td>\n",
       "      <td>Pittsburgh</td>\n",
       "      <td>4</td>\n",
       "    </tr>\n",
       "    <tr>\n",
       "      <th>11</th>\n",
       "      <td>8fa644f0-7a52-11df-b579-4fc93184029a</td>\n",
       "      <td>Moosic</td>\n",
       "      <td>3</td>\n",
       "    </tr>\n",
       "    <tr>\n",
       "      <th>17</th>\n",
       "      <td>8fadf286-7a52-11df-ac2a-5fa912f3eaca</td>\n",
       "      <td>Orange</td>\n",
       "      <td>2</td>\n",
       "    </tr>\n",
       "    <tr>\n",
       "      <th>20</th>\n",
       "      <td>8fb2cd56-7a52-11df-86e3-2f09cb1ba6a0</td>\n",
       "      <td>Boise</td>\n",
       "      <td>2</td>\n",
       "    </tr>\n",
       "    <tr>\n",
       "      <th>1</th>\n",
       "      <td>8f80d63e-7a52-11df-87a5-ab60c696edbb</td>\n",
       "      <td>Bethesda</td>\n",
       "      <td>2</td>\n",
       "    </tr>\n",
       "    <tr>\n",
       "      <th>4</th>\n",
       "      <td>8f88ac56-7a52-11df-ab94-af1ec5be9441</td>\n",
       "      <td>Oklahoma City</td>\n",
       "      <td>2</td>\n",
       "    </tr>\n",
       "    <tr>\n",
       "      <th>2</th>\n",
       "      <td>8f82d7ea-7a52-11df-b082-e7ae0b0dff54</td>\n",
       "      <td>Silver Spring</td>\n",
       "      <td>2</td>\n",
       "    </tr>\n",
       "    <tr>\n",
       "      <th>13</th>\n",
       "      <td>8fa692b6-7a52-11df-a301-4724ad1ae690</td>\n",
       "      <td>Pittston</td>\n",
       "      <td>1</td>\n",
       "    </tr>\n",
       "    <tr>\n",
       "      <th>8</th>\n",
       "      <td>8f90b75c-7a52-11df-8c06-e3172d6afa15</td>\n",
       "      <td>Norwalk</td>\n",
       "      <td>1</td>\n",
       "    </tr>\n",
       "    <tr>\n",
       "      <th>7</th>\n",
       "      <td>8f906b8a-7a52-11df-a04a-3b90b51cffa9</td>\n",
       "      <td>East Norwalk</td>\n",
       "      <td>1</td>\n",
       "    </tr>\n",
       "    <tr>\n",
       "      <th>0</th>\n",
       "      <td>04557b80-41db-48fb-97e2-e3ec8d9be554</td>\n",
       "      <td>Los Angeles@30</td>\n",
       "      <td>1</td>\n",
       "    </tr>\n",
       "  </tbody>\n",
       "</table>\n",
       "</div>"
      ],
      "text/plain": [
       "                          pk_destination        str_name  num_lots\n",
       "19  8faeea56-7a52-11df-ad8f-6b84bf453d3d    Santa Monica        15\n",
       "16  8faca340-7a52-11df-8a97-875256aaa997          Irvine        11\n",
       "10  8f98cf00-7a52-11df-bb23-6f961d7daa51       Ann Arbor         9\n",
       "6   8f8ae430-7a52-11df-93fb-6b6334ed9a2a       Knoxville         7\n",
       "15  8fa9dfde-7a52-11df-af59-273aa13aeea1         Phoenix         6\n",
       "14  8fa8608c-7a52-11df-841d-870c5e91ead8         Madison         5\n",
       "3   8f854570-7a52-11df-9a45-93d95744a90c       Asheville         5\n",
       "18  8fae86e2-7a52-11df-b2bb-d72f2aaf97c2      Sacramento         4\n",
       "5   8f8935cc-7a52-11df-85ef-037cba85cd49    Philadelphia         4\n",
       "9   8f91a77a-7a52-11df-844f-c76b5ffdf7f2       Iowa City         4\n",
       "12  8fa690e0-7a52-11df-8080-875284b07caa      Pittsburgh         4\n",
       "11  8fa644f0-7a52-11df-b579-4fc93184029a          Moosic         3\n",
       "17  8fadf286-7a52-11df-ac2a-5fa912f3eaca          Orange         2\n",
       "20  8fb2cd56-7a52-11df-86e3-2f09cb1ba6a0           Boise         2\n",
       "1   8f80d63e-7a52-11df-87a5-ab60c696edbb        Bethesda         2\n",
       "4   8f88ac56-7a52-11df-ab94-af1ec5be9441   Oklahoma City         2\n",
       "2   8f82d7ea-7a52-11df-b082-e7ae0b0dff54   Silver Spring         2\n",
       "13  8fa692b6-7a52-11df-a301-4724ad1ae690        Pittston         1\n",
       "8   8f90b75c-7a52-11df-8c06-e3172d6afa15         Norwalk         1\n",
       "7   8f906b8a-7a52-11df-a04a-3b90b51cffa9    East Norwalk         1\n",
       "0   04557b80-41db-48fb-97e2-e3ec8d9be554  Los Angeles@30         1"
      ]
     },
     "metadata": {},
     "output_type": "display_data"
    }
   ],
   "source": [
    "destinations = pd.read_csv('../data/valid_parking_destinations.csv')\n",
    "# sort destinations by num_lots\n",
    "destinations = destinations.sort_values('num_lots', ascending=False)\n",
    "display(destinations.head(25))"
   ]
  },
  {
   "cell_type": "code",
   "execution_count": 6,
   "metadata": {},
   "outputs": [],
   "source": [
    "destination_name = 'Irvine'\n",
    "datetime_start = '2023-01-01'\n",
    "datetime_end = '2023-01-31'\n",
    "\n",
    "parking_filename = f'retry_parking_{destination_name}_{datetime_start}_{datetime_end}.csv'"
   ]
  },
  {
   "cell_type": "code",
   "execution_count": 7,
   "metadata": {},
   "outputs": [
    {
     "name": "stdout",
     "output_type": "stream",
     "text": [
      "\n",
      "        SELECT  lot_occupancy.*, st_astext(lot.gpnt_location) as location, st_astext(lot.mpoly_lot) as geometry\n",
      "        FROM lot_occupancy\n",
      "        JOIN lot on lot_occupancy.pk_lot = lot.pk_lot\n",
      "        JOIN destination on lot.pk_city = destination.pk_destination\n",
      "        WHERE dt_start_date AT TIME ZONE str_timezone >=  '2023-01-01'\n",
      "            AND dt_start_date AT TIME ZONE str_timezone <  '2023-01-31'\n",
      "            AND f_pct_occ IS NOT NULL\n",
      "            AND destination.pk_country = 'b363bb38-ca10-11e1-9278-12313d1b6657' -- USA\n",
      "            AND destination.str_name = 'Irvine'\n",
      "                   \n",
      "        \n"
     ]
    },
    {
     "ename": "OperationalError",
     "evalue": "could not connect to server: Connection timed out (0x0000274C/10060)\n\tIs the server running on host \"devdb-zzz.parkme.com\" (10.104.17.126) and accepting\n\tTCP/IP connections on port 5432?\n",
     "output_type": "error",
     "traceback": [
      "\u001b[1;31m---------------------------------------------------------------------------\u001b[0m",
      "\u001b[1;31mOperationalError\u001b[0m                          Traceback (most recent call last)",
      "Cell \u001b[1;32mIn[7], line 2\u001b[0m\n\u001b[0;32m      1\u001b[0m \u001b[38;5;28;01mif\u001b[39;00m \u001b[38;5;129;01mnot\u001b[39;00m os\u001b[38;5;241m.\u001b[39mpath\u001b[38;5;241m.\u001b[39mexists(data_path \u001b[38;5;241m/\u001b[39m parking_filename):\n\u001b[1;32m----> 2\u001b[0m     parking_df \u001b[38;5;241m=\u001b[39m get_parking_data(pk_lot\u001b[38;5;241m=\u001b[39m\u001b[38;5;28;01mNone\u001b[39;00m,\n\u001b[0;32m      3\u001b[0m                                   destination_name\u001b[38;5;241m=\u001b[39mdestination_name,\n\u001b[0;32m      4\u001b[0m                                   datetime_start\u001b[38;5;241m=\u001b[39mdatetime_start,\n\u001b[0;32m      5\u001b[0m                                   datetime_end\u001b[38;5;241m=\u001b[39mdatetime_end,\n\u001b[0;32m      6\u001b[0m                                   echo_query\u001b[38;5;241m=\u001b[39m\u001b[38;5;28;01mTrue\u001b[39;00m)\n\u001b[0;32m      7\u001b[0m     relevant_cols \u001b[38;5;241m=\u001b[39m [\u001b[38;5;124m'\u001b[39m\u001b[38;5;124mdt_start_date\u001b[39m\u001b[38;5;124m'\u001b[39m, \u001b[38;5;124m'\u001b[39m\u001b[38;5;124mdt_end_date\u001b[39m\u001b[38;5;124m'\u001b[39m, \u001b[38;5;124m'\u001b[39m\u001b[38;5;124mi_avail\u001b[39m\u001b[38;5;124m'\u001b[39m, \u001b[38;5;124m'\u001b[39m\u001b[38;5;124mi_occ\u001b[39m\u001b[38;5;124m'\u001b[39m, \u001b[38;5;124m'\u001b[39m\u001b[38;5;124mf_pct_occ\u001b[39m\u001b[38;5;124m'\u001b[39m, \u001b[38;5;124m'\u001b[39m\u001b[38;5;124mpk_lot_alias\u001b[39m\u001b[38;5;124m'\u001b[39m,\n\u001b[0;32m      8\u001b[0m                      \u001b[38;5;124m'\u001b[39m\u001b[38;5;124mf_occupancy_rank\u001b[39m\u001b[38;5;124m'\u001b[39m, \u001b[38;5;124m'\u001b[39m\u001b[38;5;124mpk_lot\u001b[39m\u001b[38;5;124m'\u001b[39m, \u001b[38;5;124m'\u001b[39m\u001b[38;5;124mlocation\u001b[39m\u001b[38;5;124m'\u001b[39m, \u001b[38;5;124m'\u001b[39m\u001b[38;5;124mgeometry\u001b[39m\u001b[38;5;124m'\u001b[39m]\n\u001b[0;32m      9\u001b[0m     parking_df \u001b[38;5;241m=\u001b[39m parking_df[relevant_cols]\n",
      "File \u001b[1;32mc:\\Users\\logan.garwood\\OneDrive - INRIX\\Desktop\\code\\Parking-Location-vs-Occupancy\\src\\parking_data_retrieval.py:110\u001b[0m, in \u001b[0;36mget_parking_data\u001b[1;34m(pk_lot, datetime_start, datetime_end, destination_name, echo_query)\u001b[0m\n\u001b[0;32m     98\u001b[0m conn \u001b[38;5;241m=\u001b[39m PostgresConnector(\n\u001b[0;32m     99\u001b[0m     \u001b[38;5;66;03m# host=\"prod2.cwipgjsh740x.us-west-2.rds.amazonaws.com\",\u001b[39;00m\n\u001b[0;32m    100\u001b[0m     \u001b[38;5;66;03m# host=\"10.104.16.46\",\u001b[39;00m\n\u001b[1;32m   (...)\u001b[0m\n\u001b[0;32m    106\u001b[0m     persistent_connection\u001b[38;5;241m=\u001b[39m\u001b[38;5;28;01mFalse\u001b[39;00m,\n\u001b[0;32m    107\u001b[0m )\n\u001b[0;32m    108\u001b[0m query \u001b[38;5;241m=\u001b[39m construct_query(pk_lot, datetime_start, datetime_end,\n\u001b[0;32m    109\u001b[0m                         destination_name, print_query\u001b[38;5;241m=\u001b[39mecho_query)\n\u001b[1;32m--> 110\u001b[0m data \u001b[38;5;241m=\u001b[39m conn\u001b[38;5;241m.\u001b[39mexecute_query(query, as_df\u001b[38;5;241m=\u001b[39m\u001b[38;5;28;01mTrue\u001b[39;00m)\n\u001b[0;32m    111\u001b[0m \u001b[38;5;28;01mreturn\u001b[39;00m data\n",
      "File \u001b[1;32mc:\\Users\\logan.garwood\\AppData\\Local\\anaconda3\\envs\\inrixDS\\Lib\\site-packages\\inrix_data_science_utils\\api\\postgres.py:85\u001b[0m, in \u001b[0;36mPostgresConnector.execute_query\u001b[1;34m(self, query, as_df)\u001b[0m\n\u001b[0;32m     83\u001b[0m         \u001b[38;5;28;01mpass\u001b[39;00m\n\u001b[0;32m     84\u001b[0m \u001b[38;5;28;01mexcept\u001b[39;00m (\u001b[38;5;167;01mException\u001b[39;00m, psycopg2\u001b[38;5;241m.\u001b[39mDatabaseError) \u001b[38;5;28;01mas\u001b[39;00m error:\n\u001b[1;32m---> 85\u001b[0m     \u001b[38;5;28;01mraise\u001b[39;00m error\n\u001b[0;32m     86\u001b[0m \u001b[38;5;28;01mfinally\u001b[39;00m:\n\u001b[0;32m     87\u001b[0m     \u001b[38;5;28;01mif\u001b[39;00m cursor \u001b[38;5;129;01mis\u001b[39;00m \u001b[38;5;129;01mnot\u001b[39;00m \u001b[38;5;28;01mNone\u001b[39;00m:\n",
      "File \u001b[1;32mc:\\Users\\logan.garwood\\AppData\\Local\\anaconda3\\envs\\inrixDS\\Lib\\site-packages\\inrix_data_science_utils\\api\\postgres.py:70\u001b[0m, in \u001b[0;36mPostgresConnector.execute_query\u001b[1;34m(self, query, as_df)\u001b[0m\n\u001b[0;32m     68\u001b[0m conn \u001b[38;5;241m=\u001b[39m cursor \u001b[38;5;241m=\u001b[39m \u001b[38;5;28;01mNone\u001b[39;00m\n\u001b[0;32m     69\u001b[0m \u001b[38;5;28;01mtry\u001b[39;00m:\n\u001b[1;32m---> 70\u001b[0m     conn \u001b[38;5;241m=\u001b[39m \u001b[38;5;28mself\u001b[39m\u001b[38;5;241m.\u001b[39mconn \u001b[38;5;28;01mif\u001b[39;00m \u001b[38;5;28mself\u001b[39m\u001b[38;5;241m.\u001b[39mpersistent_connection \u001b[38;5;28;01melse\u001b[39;00m \u001b[38;5;28mself\u001b[39m\u001b[38;5;241m.\u001b[39mconnect()\n\u001b[0;32m     71\u001b[0m     cursor \u001b[38;5;241m=\u001b[39m conn\u001b[38;5;241m.\u001b[39mcursor()\n\u001b[0;32m     72\u001b[0m     cursor\u001b[38;5;241m.\u001b[39mexecute(query)\n",
      "File \u001b[1;32mc:\\Users\\logan.garwood\\AppData\\Local\\anaconda3\\envs\\inrixDS\\Lib\\site-packages\\inrix_data_science_utils\\api\\postgres.py:56\u001b[0m, in \u001b[0;36mPostgresConnector.connect\u001b[1;34m(self)\u001b[0m\n\u001b[0;32m     54\u001b[0m \u001b[38;5;28;01mif\u001b[39;00m \u001b[38;5;28mself\u001b[39m\u001b[38;5;241m.\u001b[39mport:\n\u001b[0;32m     55\u001b[0m     conn_string \u001b[38;5;241m+\u001b[39m\u001b[38;5;241m=\u001b[39m \u001b[38;5;124mf\u001b[39m\u001b[38;5;124m\"\u001b[39m\u001b[38;5;124m port=\u001b[39m\u001b[38;5;132;01m{\u001b[39;00m\u001b[38;5;28mself\u001b[39m\u001b[38;5;241m.\u001b[39mport\u001b[38;5;132;01m}\u001b[39;00m\u001b[38;5;124m\"\u001b[39m\n\u001b[1;32m---> 56\u001b[0m \u001b[38;5;28;01mreturn\u001b[39;00m psycopg2\u001b[38;5;241m.\u001b[39mconnect(conn_string)\n",
      "File \u001b[1;32mc:\\Users\\logan.garwood\\AppData\\Local\\anaconda3\\envs\\inrixDS\\Lib\\site-packages\\psycopg2\\__init__.py:122\u001b[0m, in \u001b[0;36mconnect\u001b[1;34m(dsn, connection_factory, cursor_factory, **kwargs)\u001b[0m\n\u001b[0;32m    119\u001b[0m     kwasync[\u001b[38;5;124m'\u001b[39m\u001b[38;5;124masync_\u001b[39m\u001b[38;5;124m'\u001b[39m] \u001b[38;5;241m=\u001b[39m kwargs\u001b[38;5;241m.\u001b[39mpop(\u001b[38;5;124m'\u001b[39m\u001b[38;5;124masync_\u001b[39m\u001b[38;5;124m'\u001b[39m)\n\u001b[0;32m    121\u001b[0m dsn \u001b[38;5;241m=\u001b[39m _ext\u001b[38;5;241m.\u001b[39mmake_dsn(dsn, \u001b[38;5;241m*\u001b[39m\u001b[38;5;241m*\u001b[39mkwargs)\n\u001b[1;32m--> 122\u001b[0m conn \u001b[38;5;241m=\u001b[39m _connect(dsn, connection_factory\u001b[38;5;241m=\u001b[39mconnection_factory, \u001b[38;5;241m*\u001b[39m\u001b[38;5;241m*\u001b[39mkwasync)\n\u001b[0;32m    123\u001b[0m \u001b[38;5;28;01mif\u001b[39;00m cursor_factory \u001b[38;5;129;01mis\u001b[39;00m \u001b[38;5;129;01mnot\u001b[39;00m \u001b[38;5;28;01mNone\u001b[39;00m:\n\u001b[0;32m    124\u001b[0m     conn\u001b[38;5;241m.\u001b[39mcursor_factory \u001b[38;5;241m=\u001b[39m cursor_factory\n",
      "\u001b[1;31mOperationalError\u001b[0m: could not connect to server: Connection timed out (0x0000274C/10060)\n\tIs the server running on host \"devdb-zzz.parkme.com\" (10.104.17.126) and accepting\n\tTCP/IP connections on port 5432?\n"
     ]
    }
   ],
   "source": [
    "if not os.path.exists(data_path / parking_filename):\n",
    "    parking_df = get_parking_data(pk_lot=None,\n",
    "                                  destination_name=destination_name,\n",
    "                                  datetime_start=datetime_start,\n",
    "                                  datetime_end=datetime_end,\n",
    "                                  echo_query=True)\n",
    "    relevant_cols = ['dt_start_date', 'dt_end_date', 'i_avail', 'i_occ', 'f_pct_occ', 'pk_lot_alias',\n",
    "                     'f_occupancy_rank', 'pk_lot', 'location', 'geometry']\n",
    "    parking_df = parking_df[relevant_cols]\n",
    "    parking_df.to_csv(data_path / parking_filename, index=False)\n",
    "else:\n",
    "    parking_df = pd.read_csv(data_path / parking_filename)\n",
    "    parking_df['dt_start_date'] = pd.to_datetime(parking_df['dt_start_date'])\n",
    "print(parking_df.shape)\n",
    "parking_df.head()"
   ]
  },
  {
   "cell_type": "code",
   "execution_count": null,
   "metadata": {},
   "outputs": [],
   "source": [
    "parking_gpd = parking_df.copy()\n",
    "geometry = parking_gpd['geometry'].apply(wkt.loads)\n",
    "parking_gpd = gpd.GeoDataFrame(parking_gpd, crs='epsg:4326', geometry=geometry)"
   ]
  },
  {
   "cell_type": "code",
   "execution_count": null,
   "metadata": {},
   "outputs": [],
   "source": [
    "# get the quadkey for a specific location\n",
    "lot_gpd = parking_gpd.groupby('pk_lot').agg({'geometry': 'first'}).reset_index()\n",
    "qk = qkey.QuadKey('0')\n",
    "level = 15\n",
    "lot_gpd['centroid'] = lot_gpd['geometry'].apply(lambda x: x.centroid)\n",
    "lot_gpd['center_lat'] = lot_gpd['centroid'].apply(lambda x: x.coords[0][1])\n",
    "lot_gpd['center_lon'] = lot_gpd['centroid'].apply(lambda x: x.coords[0][0])\n",
    "lot_gpd['qk'] = lot_gpd.apply(lambda row: qk.from_geo((row['center_lat'], row['center_lon']), level=level), axis=1)\n",
    "display(lot_gpd)"
   ]
  },
  {
   "cell_type": "code",
   "execution_count": null,
   "metadata": {},
   "outputs": [],
   "source": [
    "# folium plot the parking lots\n",
    "m = folium.Map(zoom_start=10)\n",
    "\n",
    "for _, r in lot_gpd.iterrows():\n",
    "    geom = r['geometry']  # this needs to be a shapely geometry object\n",
    "    sim_geo = gpd.GeoSeries(geom)\n",
    "    geo_j = sim_geo.to_json()\n",
    "    geo_j = folium.GeoJson(data=geo_j,\n",
    "                           style_function=lambda x: {'fillColor': 'blue', 'color': 'blue', 'opacity': 0.8},\n",
    "                           tooltip=r['pk_lot'])\n",
    "\n",
    "    geo_j.add_to(m)\n",
    "\n",
    "\n",
    "for q in lot_gpd['qk'].unique():\n",
    "    polygon = folium.GeoJson(data=q.get_bounds_as_geojson(),\n",
    "                             style_function=lambda x: {'fillColor': 'red', 'color': 'red', 'opacity': 0.3},\n",
    "                             tooltip=str(q))\n",
    "    polygon.add_to(m)\n",
    "\n",
    "\n",
    "m"
   ]
  },
  {
   "cell_type": "markdown",
   "metadata": {},
   "source": [
    "#### Parking Occupancy Initial Plots"
   ]
  },
  {
   "cell_type": "code",
   "execution_count": null,
   "metadata": {},
   "outputs": [],
   "source": [
    "print(parking_df['pk_lot'].unique())"
   ]
  },
  {
   "cell_type": "code",
   "execution_count": null,
   "metadata": {},
   "outputs": [],
   "source": [
    "# line graph of f_pct_occ vs. dt_start_date grouped by pk_lot\n",
    "day_df = parking_df[(parking_df['dt_start_date'] >= '2023-01-01') &\n",
    "                    (parking_df['dt_start_date'] <= '2023-01-7') &\n",
    "                    (parking_df['pk_lot'] == 209634)]\n",
    "# order day_df by dt_start_date\n",
    "day_df = day_df.sort_values('dt_start_date')\n",
    "display(day_df.head(5))\n",
    "\n",
    "plt.figure(figsize=(10, 6))\n",
    "day_df.set_index('dt_start_date', inplace=True)\n",
    "day_df.groupby('pk_lot')['f_pct_occ'].plot(legend=True)\n",
    "# plt.plot(day_df['dt_start_date'], day_df['f_pct_occ'])\n",
    "plt.yticks(np.arange(0, 110, 10))\n",
    "plt.ylabel('Percent Lot Occupancy')\n",
    "plt.legend(title='Parking Lot')\n",
    "plt.ylim(-1, 105)\n",
    "plt.show()\n"
   ]
  },
  {
   "cell_type": "markdown",
   "metadata": {},
   "source": [
    "Smooth into 1 minute buckets"
   ]
  },
  {
   "cell_type": "code",
   "execution_count": null,
   "metadata": {},
   "outputs": [],
   "source": [
    "parking_df['dt_start_date'] = pd.to_datetime(parking_df['dt_start_date'])\n",
    "print(parking_df['dt_start_date'].dtype)"
   ]
  },
  {
   "cell_type": "code",
   "execution_count": null,
   "metadata": {},
   "outputs": [],
   "source": [
    "smooth_df = parking_df.sort_values('dt_start_date').copy()\n",
    "smooth_df['time_bucket'] = smooth_df['dt_start_date'].dt.floor('min')\n",
    "agg_dict = {'f_pct_occ': 'mean', 'i_avail': 'mean', 'i_occ': 'mean',\n",
    "            'location': 'first', 'geometry': 'first',}\n",
    "grouped_df = smooth_df.groupby(['pk_lot', 'time_bucket']).agg(agg_dict).reset_index()\n",
    "# how many rows from the original go into each group of grouped_df\n",
    "\n",
    "a, b = smooth_df.shape[0], grouped_df.shape[0]\n",
    "print(f'At least {a - b} rows out of {a} from the original\\ndf go into each group of grouped_df for a final size of {b}')\n",
    "display(grouped_df)"
   ]
  },
  {
   "cell_type": "code",
   "execution_count": null,
   "metadata": {},
   "outputs": [],
   "source": [
    "grouped_df.to_csv(data_path / 'IrvineSpectrumCenter_parking.csv', index=False)"
   ]
  },
  {
   "cell_type": "code",
   "execution_count": null,
   "metadata": {},
   "outputs": [],
   "source": [
    "sanity_check = grouped_df[grouped_df['pk_lot'] == 209634] # grouped_df\n",
    "sanity_check = sanity_check.sort_values('time_bucket')\n",
    "# display(sanity_check)\n",
    "\n",
    "plt.figure(figsize=(10, 6))\n",
    "sanity_check.set_index('time_bucket', inplace=True)\n",
    "sanity_check.groupby('pk_lot')['f_pct_occ'].plot(legend=True)\n",
    "# plt.plot(day_df['dt_start_date'], day_df['f_pct_occ'])\n",
    "plt.yticks(np.arange(0, 110, 10))\n",
    "plt.ylabel('Percent Lot Occupancy')\n",
    "plt.legend(title='Parking Lot')\n",
    "plt.ylim(-1, 105)\n",
    "plt.show()"
   ]
  },
  {
   "cell_type": "markdown",
   "metadata": {},
   "source": [
    "### Extracting Trips"
   ]
  },
  {
   "cell_type": "code",
   "execution_count": null,
   "metadata": {},
   "outputs": [],
   "source": [
    "# Change these as needed\n",
    "# qk_list = ['02123003']  # seattle area\n",
    "# qk_list = ['021230032110033003', '021230032110033012', '021230032110033021', '021230032110033030']  # QFC North Bend\n",
    "# qk_list = [str(qk)]  # Six Flags OKC\n",
    "# qk_list = neighbors  # if we want to get all the neighbors data too\n",
    "qk_list = ['023013202100232', '023013202100233', '023013202102010', '023013202102011'] # \n",
    "start_date = pd.to_datetime('2023-01-01 00:00:00')\n",
    "end_date = pd.to_datetime('2023-1-31 00:01:00')\n",
    "trip_type = 'orig' # 'orig' or 'dest'\n",
    "filename_description = 'IrvineSpectrumCenter'\n",
    "\n",
    "# don't change these\n",
    "start_year = str(start_date.year)\n",
    "start_month = str(start_date.month).zfill(2)\n",
    "start_day = str(start_date.day).zfill(2)\n",
    "end_year = str(end_date.year)\n",
    "end_month = str(end_date.month).zfill(2)\n",
    "end_day = str(end_date.day).zfill(2)\n",
    "out_filename = f'''{trip_type}_trips_{filename_description}_{start_year}-{start_month}-{start_day}_to_{\n",
    "                end_year}-{end_month}-{end_day}.csv'''\n",
    "out_file_path = data_path / out_filename\n",
    "print('Will save the csv to ', out_file_path)\n",
    "origin_qk = (trip_type == 'orig')\n",
    "\n",
    "table_name = 'tripdata_na_restricted'\n",
    "s3_tapp_data_dir = 'data-restricted'\n",
    "s3_tapp_region = 'NA'"
   ]
  },
  {
   "cell_type": "code",
   "execution_count": null,
   "metadata": {},
   "outputs": [],
   "source": [
    "# if out_file_path not in the data folder, save it there\n",
    "if not os.path.exists(out_file_path):\n",
    "    trips_df = get_agg_trips(\n",
    "        agg_file_path = out_file_path,\n",
    "        echo_query=True,\n",
    "        table_name=table_name,\n",
    "        start_date=start_date,\n",
    "        end_date=end_date,\n",
    "        qk_filter_list=qk_list,\n",
    "        s3_tapp_data_dir=s3_tapp_data_dir,\n",
    "        s3_tapp_region=s3_tapp_region,\n",
    "        origin_qk=origin_qk,\n",
    "    )\n",
    "    print('Saved the csv to', out_file_path)\n",
    "else:\n",
    "    trips_df = pd.read_csv(out_file_path)\n",
    "\n",
    "trips_df['date'] = pd.to_datetime(trips_df[['year', 'month', 'day', 'hour', 'minute', 'second']])\n",
    "display(trips_df)"
   ]
  },
  {
   "cell_type": "code",
   "execution_count": null,
   "metadata": {},
   "outputs": [],
   "source": [
    "# m = lot_map\n",
    "# m = folium.Map(zoom_start=10)\n",
    "map = m\n",
    "\n",
    "N = 10\n",
    "for i in range(0, trips_df.shape[0], N):\n",
    "    folium.CircleMarker(\n",
    "        location=[\n",
    "            trips_df['end_lat'].values[i],\n",
    "            trips_df['end_lon'].values[i]\n",
    "        ],\n",
    "        color='red',\n",
    "        radius=1\n",
    "    ).add_to(map)\n",
    "# m.fit_bounds(m.get_bounds())\n",
    "\n",
    "# for i in range(0, trips_df.shape[0], N):\n",
    "#     folium.CircleMarker(\n",
    "#         location=[\n",
    "#             trips_df['start_lat'].values[i],\n",
    "#             trips_df['start_lon'].values[i]\n",
    "#         ],\n",
    "#         color='blue',\n",
    "#         radius=1\n",
    "#     ).add_to(map)\n",
    "# m.fit_bounds(m.get_bounds())\n",
    "\n",
    "map"
   ]
  }
 ],
 "metadata": {
  "kernelspec": {
   "display_name": "inrixDS",
   "language": "python",
   "name": "python3"
  },
  "language_info": {
   "codemirror_mode": {
    "name": "ipython",
    "version": 3
   },
   "file_extension": ".py",
   "mimetype": "text/x-python",
   "name": "python",
   "nbconvert_exporter": "python",
   "pygments_lexer": "ipython3",
   "version": "3.11.9"
  }
 },
 "nbformat": 4,
 "nbformat_minor": 2
}
