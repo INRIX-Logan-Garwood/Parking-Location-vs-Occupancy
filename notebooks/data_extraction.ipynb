{
 "cells": [
  {
   "cell_type": "markdown",
   "metadata": {},
   "source": [
    "This Jupyter Notebook is used for extracting data from multiple sources. The sources include trip data, occupancy data, and parking lot data. "
   ]
  },
  {
   "cell_type": "code",
   "execution_count": 1,
   "metadata": {},
   "outputs": [],
   "source": [
    "import pandas as pd\n",
    "import geopandas as gpd\n",
    "from shapely import wkt\n",
    "import numpy as np\n",
    "import os\n",
    "import folium\n",
    "from pathlib import Path\n",
    "import boto3\n",
    "\n",
    "# import from src\n",
    "os.chdir('../src')\n",
    "from trips_data_retrieval import get_agg_trips_by_market, get_agg_trips"
   ]
  },
  {
   "cell_type": "markdown",
   "metadata": {},
   "source": [
    "### Extracting Trips"
   ]
  },
  {
   "cell_type": "code",
   "execution_count": 2,
   "metadata": {},
   "outputs": [],
   "source": [
    "data_path = Path('../data')"
   ]
  },
  {
   "cell_type": "code",
   "execution_count": 3,
   "metadata": {},
   "outputs": [],
   "source": [
    "# Change these as needed\n",
    "qk_list = ['02123003']\n",
    "start_date = pd.to_datetime('2023-05-08 00:00:00')\n",
    "end_date = pd.to_datetime('2023-05-11 00:01:00')\n",
    "out_filename = 'tripdata.csv'\n",
    "trip_type = 'dest'\n",
    "\n",
    "# don't change these\n",
    "out_file_path = data_path / out_filename\n",
    "origin_qk = (trip_type == 'orig')\n",
    "\n",
    "table_name = 'tripdata_na_restricted'\n",
    "s3_tapp_data_dir = 'data-restricted'\n",
    "s3_tapp_region = 'NA'\n"
   ]
  },
  {
   "cell_type": "code",
   "execution_count": 6,
   "metadata": {},
   "outputs": [
    {
     "name": "stdout",
     "output_type": "stream",
     "text": [
      "\n",
      "            WITH qk_counts AS(\n",
      "            SELECT start_time, provider, start_lat, start_lon, end_lat, end_lon, \n",
      "                    BING_TILE_QUADKEY(BING_TILE_AT(end_lat, end_lon, 17)) AS dest_qk17,\n",
      "                    BING_TILE_QUADKEY(BING_TILE_AT(start_lat, start_lon, 17)) AS orig_qk17,\n",
      "                    year, month, day, SUBSTR(start_time,12, 2) AS hour, trip_id, is_moving\n",
      "\n",
      "            FROM \"inrixdatascience\".\"tripdata_na_restricted\"\n",
      "            WHERE\n",
      "                qk = '02123'\n",
      "                AND year IN ('2023', '2023')\n",
      "                AND month IN ('05', '05')\n",
      "                AND CAST(day AS INT) BETWEEN 8 AND 11\n",
      "                AND provider IN ('475', '458', '470')\n",
      "                AND REGEXP_LIKE(\n",
      "                        BING_TILE_QUADKEY(BING_TILE_AT(end_lat, end_lon, 8)),\n",
      "                        '(02123003)'\n",
      "                    )\n",
      "                    \n",
      "                )\n",
      "    SELECT year, month, day, hour, orig_qk17, dest_qk17, start_lat, start_lon, \n",
      "            end_lat, end_lon, COUNT(*) AS count, trip_id, is_moving\n",
      "    FROM qk_counts\n",
      "    GROUP BY year, month, day, hour, orig_qk17, dest_qk17, start_lat, start_lon, \n",
      "            end_lat, end_lon, trip_id, is_moving\n",
      "    \n"
     ]
    }
   ],
   "source": [
    "df = get_agg_trips(\n",
    "    agg_file_path = out_file_path,\n",
    "    echo_query=True,\n",
    "    table_name=table_name,\n",
    "    start_date=start_date,\n",
    "    end_date=end_date,\n",
    "    qk_filter_list=qk_list,\n",
    "    s3_tapp_data_dir=s3_tapp_data_dir,\n",
    "    s3_tapp_region=s3_tapp_region,\n",
    "    origin_qk=origin_qk,\n",
    ")"
   ]
  },
  {
   "cell_type": "code",
   "execution_count": 7,
   "metadata": {},
   "outputs": [
    {
     "name": "stdout",
     "output_type": "stream",
     "text": [
      "(618213, 13)\n"
     ]
    },
    {
     "data": {
      "text/html": [
       "<div>\n",
       "<style scoped>\n",
       "    .dataframe tbody tr th:only-of-type {\n",
       "        vertical-align: middle;\n",
       "    }\n",
       "\n",
       "    .dataframe tbody tr th {\n",
       "        vertical-align: top;\n",
       "    }\n",
       "\n",
       "    .dataframe thead th {\n",
       "        text-align: right;\n",
       "    }\n",
       "</style>\n",
       "<table border=\"1\" class=\"dataframe\">\n",
       "  <thead>\n",
       "    <tr style=\"text-align: right;\">\n",
       "      <th></th>\n",
       "      <th>year</th>\n",
       "      <th>month</th>\n",
       "      <th>day</th>\n",
       "      <th>hour</th>\n",
       "      <th>orig_qk17</th>\n",
       "      <th>dest_qk17</th>\n",
       "      <th>start_lat</th>\n",
       "      <th>start_lon</th>\n",
       "      <th>end_lat</th>\n",
       "      <th>end_lon</th>\n",
       "      <th>count</th>\n",
       "      <th>trip_id</th>\n",
       "      <th>is_moving</th>\n",
       "    </tr>\n",
       "  </thead>\n",
       "  <tbody>\n",
       "    <tr>\n",
       "      <th>0</th>\n",
       "      <td>2023</td>\n",
       "      <td>05</td>\n",
       "      <td>10</td>\n",
       "      <td>22</td>\n",
       "      <td>02123003000203112</td>\n",
       "      <td>02123003000322120</td>\n",
       "      <td>47.914219</td>\n",
       "      <td>-122.305076</td>\n",
       "      <td>47.882606</td>\n",
       "      <td>-122.243643</td>\n",
       "      <td>1</td>\n",
       "      <td>573d98ce66e303dca0fb561ba362403f</td>\n",
       "      <td>1</td>\n",
       "    </tr>\n",
       "    <tr>\n",
       "      <th>1</th>\n",
       "      <td>2023</td>\n",
       "      <td>05</td>\n",
       "      <td>10</td>\n",
       "      <td>23</td>\n",
       "      <td>02123003000213033</td>\n",
       "      <td>02123003002312303</td>\n",
       "      <td>47.909820</td>\n",
       "      <td>-122.266921</td>\n",
       "      <td>47.789106</td>\n",
       "      <td>-122.198045</td>\n",
       "      <td>1</td>\n",
       "      <td>661c0601b3bb0ea1dd66cc8356152ec9</td>\n",
       "      <td>1</td>\n",
       "    </tr>\n",
       "    <tr>\n",
       "      <th>2</th>\n",
       "      <td>2023</td>\n",
       "      <td>05</td>\n",
       "      <td>10</td>\n",
       "      <td>23</td>\n",
       "      <td>02123003000230231</td>\n",
       "      <td>02123003000030320</td>\n",
       "      <td>47.889296</td>\n",
       "      <td>-122.288991</td>\n",
       "      <td>47.947945</td>\n",
       "      <td>-122.288348</td>\n",
       "      <td>1</td>\n",
       "      <td>0f68c94b2e4b5d65a6e08254777b8c37</td>\n",
       "      <td>1</td>\n",
       "    </tr>\n",
       "    <tr>\n",
       "      <th>3</th>\n",
       "      <td>2023</td>\n",
       "      <td>05</td>\n",
       "      <td>10</td>\n",
       "      <td>23</td>\n",
       "      <td>02123003000332303</td>\n",
       "      <td>02123003000332213</td>\n",
       "      <td>47.876130</td>\n",
       "      <td>-122.197032</td>\n",
       "      <td>47.876675</td>\n",
       "      <td>-122.201666</td>\n",
       "      <td>1</td>\n",
       "      <td>a236898306d5f042f16544b513a73e4b</td>\n",
       "      <td>1</td>\n",
       "    </tr>\n",
       "    <tr>\n",
       "      <th>4</th>\n",
       "      <td>2023</td>\n",
       "      <td>05</td>\n",
       "      <td>10</td>\n",
       "      <td>23</td>\n",
       "      <td>02123003001030023</td>\n",
       "      <td>02123003001211030</td>\n",
       "      <td>47.954128</td>\n",
       "      <td>-122.118543</td>\n",
       "      <td>47.925987</td>\n",
       "      <td>-122.096079</td>\n",
       "      <td>1</td>\n",
       "      <td>1bac95d7331a1af112831e1db4752ed8</td>\n",
       "      <td>1</td>\n",
       "    </tr>\n",
       "  </tbody>\n",
       "</table>\n",
       "</div>"
      ],
      "text/plain": [
       "   year month day hour          orig_qk17          dest_qk17  start_lat  \\\n",
       "0  2023    05  10   22  02123003000203112  02123003000322120  47.914219   \n",
       "1  2023    05  10   23  02123003000213033  02123003002312303  47.909820   \n",
       "2  2023    05  10   23  02123003000230231  02123003000030320  47.889296   \n",
       "3  2023    05  10   23  02123003000332303  02123003000332213  47.876130   \n",
       "4  2023    05  10   23  02123003001030023  02123003001211030  47.954128   \n",
       "\n",
       "    start_lon    end_lat     end_lon  count                           trip_id  \\\n",
       "0 -122.305076  47.882606 -122.243643      1  573d98ce66e303dca0fb561ba362403f   \n",
       "1 -122.266921  47.789106 -122.198045      1  661c0601b3bb0ea1dd66cc8356152ec9   \n",
       "2 -122.288991  47.947945 -122.288348      1  0f68c94b2e4b5d65a6e08254777b8c37   \n",
       "3 -122.197032  47.876675 -122.201666      1  a236898306d5f042f16544b513a73e4b   \n",
       "4 -122.118543  47.925987 -122.096079      1  1bac95d7331a1af112831e1db4752ed8   \n",
       "\n",
       "   is_moving  \n",
       "0          1  \n",
       "1          1  \n",
       "2          1  \n",
       "3          1  \n",
       "4          1  "
      ]
     },
     "execution_count": 7,
     "metadata": {},
     "output_type": "execute_result"
    }
   ],
   "source": [
    "print(df.shape)\n",
    "df.head()"
   ]
  },
  {
   "cell_type": "code",
   "execution_count": null,
   "metadata": {},
   "outputs": [],
   "source": []
  }
 ],
 "metadata": {
  "kernelspec": {
   "display_name": "inrixDS",
   "language": "python",
   "name": "python3"
  },
  "language_info": {
   "codemirror_mode": {
    "name": "ipython",
    "version": 3
   },
   "file_extension": ".py",
   "mimetype": "text/x-python",
   "name": "python",
   "nbconvert_exporter": "python",
   "pygments_lexer": "ipython3",
   "version": "3.11.9"
  }
 },
 "nbformat": 4,
 "nbformat_minor": 2
}
